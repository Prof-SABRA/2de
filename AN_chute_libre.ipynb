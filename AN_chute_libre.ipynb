{
 "cells": [
  {
   "cell_type": "markdown",
   "id": "antique-cooperation",
   "metadata": {},
   "source": [
    "<h1 style=\"text-align:center; font-size:28pt; font-weight:bold\"> AN : La chute libre ? </h1>"
   ]
  },
  {
   "cell_type": "markdown",
   "id": "average-artist",
   "metadata": {
    "tags": []
   },
   "source": [
    "<div class=\"alert alert-block alert-danger\">\n",
    "    <b>CONSIGNES GENERALES</b>\n",
    "    <ul>\n",
    "        <li> Les différentes parties peuvent être traitées indépendamment</li>\n",
    "        <li> Lire les consignes dans les cellules bleues. </li>\n",
    "        <li> Les aides (cellules vertes) et les solutions (cellules jaunes)ne sont à utiliser qu'après avoir vraiment essayé de compléter le code. </li>\n",
    "    </ul>\n",
    "</div>"
   ]
  },
  {
   "cell_type": "markdown",
   "id": "emotional-native",
   "metadata": {},
   "source": [
    "## **Niveau A**"
   ]
  },
  {
   "cell_type": "markdown",
   "id": "blond-allocation",
   "metadata": {
    "tags": []
   },
   "source": [
    "<div class=\"alert alert-block alert-info\">\n",
    "    <b>Consigne :</b>\n",
    "    <p>Dans la cellule ci-dessous, écrire le code permettant de tracer le graphique représentant la vitesse du parachutiste en fonction du temps </p>\n",
    "</div>"
   ]
  },
  {
   "cell_type": "code",
   "execution_count": null,
   "id": "czech-background",
   "metadata": {},
   "outputs": [],
   "source": [
    "import matplotlib.pyplot as plt\n",
    "\n",
    "..."
   ]
  },
  {
   "cell_type": "markdown",
   "id": "living-incentive",
   "metadata": {
    "tags": []
   },
   "source": [
    "<div class=\"alert alert-block alert-success\">\n",
    "<details>\n",
    "<summary> <b> Aides </b> </summary>\n",
    "\n",
    "* [Notice au format pdf](https://nuage-creteil.beta.education.fr/s/7kqcytKETt2aieb?dir=undefined&path=%2FNotices%2FPython%2FNotice_python_graph&openfile=20451) et [tuto vidéo](https://tube-creteil.beta.education.fr/videos/watch/8ba61fa9-08ac-4e32-947b-dbcafc736fa6)\n",
    "* Il faut entrer les listes de valeurs => liste entre crochet et valeurs séparées par des virgules\n",
    "* L'instruction pour tracer un graphique est plt.plt(...)\n",
    "\n",
    "\n",
    "</details>\n",
    "</div>"
   ]
  },
  {
   "cell_type": "markdown",
   "id": "overhead-tampa",
   "metadata": {
    "tags": []
   },
   "source": [
    "<div class=\"alert alert-block alert-warning\">\n",
    "<details>\n",
    "<summary> <b> solution </b> </summary>\n",
    "\n",
    "    import matplotlib.pyplot as plt\n",
    "    t = [0, 2, 4, 6, 8, 10, 12, 14, 16, 18, 20, 22, 24, 26, 28, 30, 32, 34, 36, 38, 40]\n",
    "    v = [0, 10, 18, 24, 28, 32.5, 36, 40, 43, 46, 48, 49, 50, 51, 51, 51, 51, 51, 51, 51, 51]\n",
    "    plt.plot(t, v, 'o-r')\n",
    "    plt.xlabel(\"$t/s$\")\n",
    "    plt.ylabel(\"$v/m.s^{-1}$\")\n",
    "    plt.show()\n",
    "</details>\n",
    "</div>"
   ]
  },
  {
   "cell_type": "markdown",
   "id": "improving-mercury",
   "metadata": {},
   "source": [
    "## **Niveau B**"
   ]
  },
  {
   "cell_type": "markdown",
   "id": "forbidden-humanitarian",
   "metadata": {
    "tags": []
   },
   "source": [
    "<div class=\"alert alert-block alert-info\">\n",
    "    <b>Consigne</b>\n",
    "    <p>Compléter le code ci-dessous pour calculer les valeurs de la vitesse au cours du mouvement</p>\n",
    "   \n",
    "</div>"
   ]
  },
  {
   "cell_type": "code",
   "execution_count": null,
   "id": "wired-patch",
   "metadata": {},
   "outputs": [],
   "source": [
    "from math import * \n",
    "\n",
    "t = [0, 5, 10, 15 ,20, 25, 30, 35, 40]\n",
    "y = [4000, 3889, 3644, 3341, 3014, 2675, 2331, 1986, 1641]\n",
    "\n",
    "v = [] # création d'une liste vide\n",
    "dt = t[1] - t[0]\n",
    "N = ... # nb de points expérimentaux\n",
    "for ... : # On ne prend pas la dernière valeurs\n",
    "    vy = (...) / dt # Calcul de vy\n",
    "    vit = ...       # calcul de la norme du vecteur vitesse (la valeur)\n",
    "    v.append(vit)\n",
    "print('Valeurs de la vitesse au cours du mouvement :', v) # Affichage pour vérifier les valeurs"
   ]
  },
  {
   "cell_type": "markdown",
   "id": "contained-auckland",
   "metadata": {
    "tags": []
   },
   "source": [
    "<div class=\"alert alert-block alert-success\">\n",
    "<details>\n",
    "<summary> <b> Aides </b> </summary>\n",
    "\n",
    "* [tuto vidéo](https://tube-creteil.beta.education.fr/videos/watch/8ba61fa9-08ac-4e32-947b-dbcafc736fa6) -> 2'33\n",
    "* La norme d'un vecteur est égale à la racine carré de la somme des carrés des coordonnées. Pour la vitesse, cela donne: $ v = \\sqrt{v_x^2 + v_y^2}$. Sachant que le vecteur est vertical $v_x=0$, on obtient donc: $$ v = \\sqrt{v_y^2}$$\n",
    "* La fonction racine carrée est `sqrt(...)` (pour square root --> racine carré en francais)\n",
    "\n",
    "\n",
    "</details>\n",
    "</div>"
   ]
  },
  {
   "cell_type": "markdown",
   "id": "thrown-manitoba",
   "metadata": {
    "tags": []
   },
   "source": [
    "<div class=\"alert alert-block alert-warning\">\n",
    "<details>\n",
    "<summary> <b> solution </b> </summary>\n",
    "\n",
    "    from math import * \n",
    "    t = [0, 5, 10, 15 ,20, 25, 30, 35, 40]\n",
    "    y = [4000, 3889, 3644, 3341, 3014, 2675, 2331, 1986, 1641]\n",
    "\n",
    "    v = [] # création d'une liste vide\n",
    "    dt = t[1] - t[0]\n",
    "    N = len(t) # nb de points expérimentaux\n",
    "    for i in range(N-1): # On ne prend pas la dernière valeurs\n",
    "        vy_i = ((y[i+1] - y[i]) / dt) / dt # Calcul de vy au point i\n",
    "        vit = sqrt(vy_i**2)       # calcul de la norme du vecteur vitesse (la valeur)\n",
    "        v.append(vit)\n",
    "    print('Valeurs de la vitesse au cours du mouvement :', v) # Affichage pour vérifier les valeurs\n",
    "    plt.show()\n",
    "</details>\n",
    "</div>"
   ]
  },
  {
   "cell_type": "markdown",
   "id": "continent-species",
   "metadata": {
    "tags": []
   },
   "source": [
    "<div class=\"alert alert-block alert-info\">\n",
    "    <b>Consigne</b>\n",
    "    <p> Compléter le code ci-dessous pour tracer la vitesse en fonction du temps</p>\n",
    "</div>"
   ]
  },
  {
   "cell_type": "code",
   "execution_count": null,
   "id": "cooked-status",
   "metadata": {
    "tags": []
   },
   "outputs": [],
   "source": [
    "import matplotlib.pyplot as plt\n",
    "t = t[:-1] # on ne prends pas la dernière date car il n'y a as de valeur de vitesse\n",
    "..."
   ]
  },
  {
   "cell_type": "markdown",
   "id": "equivalent-experiment",
   "metadata": {
    "tags": []
   },
   "source": [
    "<div class=\"alert alert-block alert-success\">\n",
    "<details>\n",
    "<summary> <b> Aides </b> </summary>\n",
    "\n",
    "* [Notice au format pdf](https://nuage-creteil.beta.education.fr/s/7kqcytKETt2aieb?dir=undefined&path=%2FNotices%2FPython%2FNotice_python_graph&openfile=20451) et [tuto vidéo](https://tube-creteil.beta.education.fr/videos/watch/8ba61fa9-08ac-4e32-947b-dbcafc736fa6)\n",
    "* Il faut entrer les listes de valeurs => liste entre crochet et valeurs séparées par des virgules\n",
    "* L'instruction pour tracer un graphique est plt.plt(...)\n",
    "\n",
    "\n",
    "</details>\n",
    "</div>"
   ]
  },
  {
   "cell_type": "markdown",
   "id": "special-former",
   "metadata": {},
   "source": [
    "<div class=\"alert alert-block alert-warning\">\n",
    "<details>\n",
    "<summary> <b> solution </b> </summary>\n",
    "\n",
    "    import matplotlib.pyplot as plt\n",
    "    \n",
    "    t = t[:-1]\n",
    "    plt.plot(t, v, 'o-b')\n",
    "    plt.xlabel(\"$t/s$\")\n",
    "    plt.ylabel(\"$v/m.s^{-1}$\")\n",
    "    plt.grid()\n",
    "   \n",
    "</details>\n",
    "</div>"
   ]
  }
 ],
 "metadata": {
  "kernelspec": {
   "display_name": "Python 3",
   "language": "python",
   "name": "python3"
  },
  "language_info": {
   "codemirror_mode": {
    "name": "ipython",
    "version": 3
   },
   "file_extension": ".py",
   "mimetype": "text/x-python",
   "name": "python",
   "nbconvert_exporter": "python",
   "pygments_lexer": "ipython3",
   "version": "3.7.9"
  }
 },
 "nbformat": 4,
 "nbformat_minor": 5
}
